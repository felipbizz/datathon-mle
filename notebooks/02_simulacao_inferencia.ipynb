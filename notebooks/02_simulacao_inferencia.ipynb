{
 "cells": [
  {
   "cell_type": "code",
   "execution_count": 1,
   "id": "924c9f95",
   "metadata": {},
   "outputs": [
    {
     "name": "stderr",
     "output_type": "stream",
     "text": [
      "[nltk_data] Downloading package stopwords to /home/felip/nltk_data...\n",
      "[nltk_data]   Package stopwords is already up-to-date!\n"
     ]
    }
   ],
   "source": [
    "import os\n",
    "\n",
    "if os.path.basename(os.getcwd()) == \"notebooks\":\n",
    "    os.chdir(\"..\")\n",
    "\n",
    "from mle_datathon.utils import get_abs_path, load_config, set_log\n",
    "\n",
    "from mle_datathon.data_processing.feature_engineering import transform_new_data\n",
    "import requests\n",
    "import json\n",
    "\n",
    "import pandas as pd\n",
    "\n",
    "logger = set_log(level=50, logfile=\"mle_datathon\")\n",
    "url = \"http://localhost:8000/api/v1/model/predict\"\n",
    "\n",
    "local_path = os.getcwd()\n",
    "config = load_config(local_path)\n",
    "\n",
    "paths = config[\"paths\"]\n",
    "\n",
    "# Todos os dados que entrarem na aplicação vão passar passar pelo pipeline de limpeza e construção das camadas do Data Lake.\n",
    "# Então nós já vamos pegar da camada silves pra otimizar\n",
    "df_prospects = pd.read_parquet(get_abs_path(local_path, paths[\"prospects_silver\"]))\n",
    "df_vagas = pd.read_parquet(get_abs_path(local_path, paths[\"vagas_silver\"]))"
   ]
  },
  {
   "cell_type": "code",
   "execution_count": 2,
   "id": "32c84242",
   "metadata": {},
   "outputs": [],
   "source": [
    "def clean_features_data(df):\n",
    "    colunas_remover = [\n",
    "        \"analista_responsavel\",\n",
    "        \"cidade\",\n",
    "        \"cliente\",\n",
    "        \"cod_vaga\",\n",
    "        \"codigo\",\n",
    "        \"data_candidatura\",\n",
    "        \"data_final\",\n",
    "        \"data_inicial\",\n",
    "        \"data_requicisao\",\n",
    "        \"empresa_divisao\",\n",
    "        \"estado\",\n",
    "        \"limite_esperado_para_contratacao\",\n",
    "        \"local_trabalho\",\n",
    "        \"nome\",\n",
    "        \"recrutador\",\n",
    "        \"regiao\",\n",
    "        \"requisitante\",\n",
    "        \"situacao_candidado\",\n",
    "        \"solicitante_cliente\",\n",
    "        \"ultima_atualizacao\",\n",
    "        \"tipo_contratacao\",\n",
    "        \"nivel_academico\",\n",
    "    ]\n",
    "    colunas_remover_2 = [\n",
    "        \"titulo\",\n",
    "        \"comentario\",\n",
    "        \"titulo_vaga\",\n",
    "        \"prazo_contratacao\",\n",
    "        \"prioridade_vaga\",\n",
    "        \"nivel profissional\",\n",
    "        \"nivel_ingles\",\n",
    "        \"nivel_espanhol\",\n",
    "        \"areas_atuacao\",\n",
    "        \"principais_atividades\",\n",
    "        \"competencia_tecnicas_e_comportamentais\",\n",
    "        \"demais_observacoes\",\n",
    "        \"equipamentos_necessarios\",\n",
    "        \"habilidades_comportamentais_necessarias\",\n",
    "        \"valor_venda\",\n",
    "        \"valor_compra_1\",\n",
    "    ]\n",
    "\n",
    "    colunas_remover.extend(colunas_remover_2)\n",
    "\n",
    "    df = df.drop(columns=colunas_remover)\n",
    "\n",
    "    features = [\n",
    "        col\n",
    "        for col in df.columns\n",
    "        if col != \"target\" and pd.api.types.is_numeric_dtype(df[col])\n",
    "    ]\n",
    "    X = df[features]\n",
    "\n",
    "    return X"
   ]
  },
  {
   "cell_type": "code",
   "execution_count": 3,
   "id": "044205ab",
   "metadata": {},
   "outputs": [
    {
     "name": "stderr",
     "output_type": "stream",
     "text": [
      "2025-05-20 21:25:08,410 - feature_engineering - INFO - [Inferência] Carregando encoders salvos...\n",
      "2025-05-20 21:25:08,422 - feature_engineering - INFO - [Inferência] Aplicando transformação de nivel_academico...\n",
      "2025-05-20 21:25:08,435 - feature_engineering - INFO - [Inferência] Aplicando transformação de tipo_contratacao...\n"
     ]
    },
    {
     "name": "stderr",
     "output_type": "stream",
     "text": [
      "2025-05-20 21:25:08,440 - feature_engineering - INFO - [Init] Carregando modelo de embeddings...\n",
      "2025-05-20 21:25:08,592 - sentence_transformers.SentenceTransformer - INFO - Use pytorch device_name: cuda:0\n",
      "2025-05-20 21:25:08,595 - sentence_transformers.SentenceTransformer - INFO - Load pretrained SentenceTransformer: paraphrase-multilingual-MiniLM-L12-v2\n",
      "2025-05-20 21:25:12,960 - feature_engineering - INFO - [principais_atividades] Criando features de tamanho e palavras...\n",
      "2025-05-20 21:25:12,968 - feature_engineering - INFO - [principais_atividades] Criando embeddings agregados...\n",
      "2025-05-20 21:25:12,976 - feature_engineering - INFO - [Embeddings] Iniciando geração para 1 textos...\n"
     ]
    },
    {
     "data": {
      "application/vnd.jupyter.widget-view+json": {
       "model_id": "a42874802dc046b4bdf4fdc1f1c908e8",
       "version_major": 2,
       "version_minor": 0
      },
      "text/plain": [
       "Batches:   0%|          | 0/1 [00:00<?, ?it/s]"
      ]
     },
     "metadata": {},
     "output_type": "display_data"
    },
    {
     "name": "stderr",
     "output_type": "stream",
     "text": [
      "2025-05-20 21:25:13,577 - feature_engineering - INFO - [Embeddings] Geração finalizada. Criando features agregadas...\n",
      "2025-05-20 21:25:13,581 - feature_engineering - INFO - [principais_atividades] Features de embeddings agregados adicionadas.\n",
      "2025-05-20 21:25:13,585 - feature_engineering - INFO - [competencia_tecnicas_e_comportamentais] Criando features de tamanho e palavras...\n",
      "2025-05-20 21:25:13,594 - feature_engineering - INFO - [competencia_tecnicas_e_comportamentais] Criando embeddings agregados...\n",
      "2025-05-20 21:25:13,601 - feature_engineering - INFO - [Embeddings] Iniciando geração para 1 textos...\n"
     ]
    },
    {
     "data": {
      "application/vnd.jupyter.widget-view+json": {
       "model_id": "f6b2d18a9080429e82be5a10b69dc293",
       "version_major": 2,
       "version_minor": 0
      },
      "text/plain": [
       "Batches:   0%|          | 0/1 [00:00<?, ?it/s]"
      ]
     },
     "metadata": {},
     "output_type": "display_data"
    },
    {
     "name": "stderr",
     "output_type": "stream",
     "text": [
      "2025-05-20 21:25:13,756 - feature_engineering - INFO - [Embeddings] Geração finalizada. Criando features agregadas...\n",
      "2025-05-20 21:25:13,768 - feature_engineering - INFO - [competencia_tecnicas_e_comportamentais] Features de embeddings agregados adicionadas.\n",
      "2025-05-20 21:25:13,773 - feature_engineering - INFO - [demais_observacoes] Criando features de tamanho e palavras...\n",
      "2025-05-20 21:25:13,783 - feature_engineering - INFO - [demais_observacoes] Criando embeddings agregados...\n",
      "2025-05-20 21:25:13,790 - feature_engineering - INFO - [Embeddings] Iniciando geração para 1 textos...\n"
     ]
    },
    {
     "data": {
      "application/vnd.jupyter.widget-view+json": {
       "model_id": "c510499ae0574c32a8cbb19968924a01",
       "version_major": 2,
       "version_minor": 0
      },
      "text/plain": [
       "Batches:   0%|          | 0/1 [00:00<?, ?it/s]"
      ]
     },
     "metadata": {},
     "output_type": "display_data"
    },
    {
     "name": "stderr",
     "output_type": "stream",
     "text": [
      "2025-05-20 21:25:13,881 - feature_engineering - INFO - [Embeddings] Geração finalizada. Criando features agregadas...\n",
      "2025-05-20 21:25:13,885 - feature_engineering - INFO - [demais_observacoes] Features de embeddings agregados adicionadas.\n",
      "2025-05-20 21:25:13,887 - feature_engineering - INFO - [comentario] Criando features de tamanho e palavras...\n",
      "2025-05-20 21:25:13,891 - feature_engineering - INFO - [comentario] Criando embeddings agregados...\n",
      "2025-05-20 21:25:13,895 - feature_engineering - INFO - [Embeddings] Iniciando geração para 1 textos...\n"
     ]
    },
    {
     "data": {
      "application/vnd.jupyter.widget-view+json": {
       "model_id": "046062038e2841c4849b0b2753c5b343",
       "version_major": 2,
       "version_minor": 0
      },
      "text/plain": [
       "Batches:   0%|          | 0/1 [00:00<?, ?it/s]"
      ]
     },
     "metadata": {},
     "output_type": "display_data"
    },
    {
     "name": "stderr",
     "output_type": "stream",
     "text": [
      "2025-05-20 21:25:13,933 - feature_engineering - INFO - [Embeddings] Geração finalizada. Criando features agregadas...\n",
      "2025-05-20 21:25:13,938 - feature_engineering - INFO - [comentario] Features de embeddings agregados adicionadas.\n",
      "[String Similarity]: 100%|██████████| 1/1 [00:00<00:00, 474.79it/s]\n"
     ]
    },
    {
     "name": "stdout",
     "output_type": "stream",
     "text": [
      "[Embeddings] Gerando embeddings dos títulos...\n"
     ]
    },
    {
     "name": "stderr",
     "output_type": "stream",
     "text": [
      "Processing batches:   0%|          | 0/1 [00:00<?, ?it/s]"
     ]
    },
    {
     "data": {
      "application/vnd.jupyter.widget-view+json": {
       "model_id": "bb27a62eb0614a0a999d654fab6367f5",
       "version_major": 2,
       "version_minor": 0
      },
      "text/plain": [
       "Batches:   0%|          | 0/1 [00:00<?, ?it/s]"
      ]
     },
     "metadata": {},
     "output_type": "display_data"
    },
    {
     "data": {
      "application/vnd.jupyter.widget-view+json": {
       "model_id": "0588f0caedb24acf8d4ce847e6c8c295",
       "version_major": 2,
       "version_minor": 0
      },
      "text/plain": [
       "Batches:   0%|          | 0/1 [00:00<?, ?it/s]"
      ]
     },
     "metadata": {},
     "output_type": "display_data"
    },
    {
     "name": "stderr",
     "output_type": "stream",
     "text": [
      "Processing batches: 100%|██████████| 1/1 [00:00<00:00,  8.53it/s]\n"
     ]
    },
    {
     "name": "stdout",
     "output_type": "stream",
     "text": [
      "[[0.6925,0.3075]]\n"
     ]
    }
   ],
   "source": [
    "um_prospect_aleatorio = df_prospects.sample(1)\n",
    "\n",
    "um_caso_aleatorio = um_prospect_aleatorio.merge(\n",
    "    df_vagas, on=\"cod_vaga\", how=\"left\", suffixes=(\"\", \"_vaga\")\n",
    ")\n",
    "\n",
    "encoders_path = \"/home/felip/projetos/datathon-mle/Datathon Decision/4_gold/encoders\"\n",
    "\n",
    "um_caso_aleatorio = transform_new_data(um_caso_aleatorio, encoders_path=encoders_path)\n",
    "\n",
    "um_caso_aleatorio = clean_features_data(um_caso_aleatorio)\n",
    "\n",
    "payload = json.dumps(\n",
    "    {\n",
    "        \"model_name\": \"RandomForest\",\n",
    "        \"model_version\": 1,\n",
    "        \"data\": um_caso_aleatorio.values.tolist(),\n",
    "    }\n",
    ")\n",
    "headers = {\"Content-Type\": \"application/json\", \"Content-Type\": \"application/json\"}\n",
    "\n",
    "response = requests.request(\"POST\", url, headers=headers, data=payload)\n",
    "\n",
    "print(response.text)"
   ]
  },
  {
   "cell_type": "code",
   "execution_count": null,
   "id": "cdf53a76",
   "metadata": {},
   "outputs": [
    {
     "name": "stdout",
     "output_type": "stream",
     "text": [
      "[[0.5934848484848485,0.4065151515151515]]\n"
     ]
    }
   ],
   "source": []
  }
 ],
 "metadata": {
  "kernelspec": {
   "display_name": ".venv",
   "language": "python",
   "name": "python3"
  },
  "language_info": {
   "codemirror_mode": {
    "name": "ipython",
    "version": 3
   },
   "file_extension": ".py",
   "mimetype": "text/x-python",
   "name": "python",
   "nbconvert_exporter": "python",
   "pygments_lexer": "ipython3",
   "version": "3.12.7"
  }
 },
 "nbformat": 4,
 "nbformat_minor": 5
}
