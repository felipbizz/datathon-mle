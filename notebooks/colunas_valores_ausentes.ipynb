{
 "cells": [
  {
   "cell_type": "markdown",
   "id": "c47e2f48",
   "metadata": {},
   "source": [
    "Leitura dos arquivos silver, merge dos datasets, tratamento inicial de valores ausentes"
   ]
  },
  {
   "cell_type": "code",
   "execution_count": null,
   "id": "178c7ebb",
   "metadata": {},
   "outputs": [
    {
     "name": "stdout",
     "output_type": "stream",
     "text": [
      "DataFrame consolidado: (61524, 65)\n",
      "Colunas com maior proporção de valores ausentes:\n",
      "regiao                                     0.910474\n",
      "download_cv                                0.879705\n",
      "ano_conclusao                              0.834439\n",
      "cursos                                     0.812025\n",
      "nivel_espanhol                             0.798144\n",
      "area_atuacao                               0.797559\n",
      "estado_civil                               0.795755\n",
      "nivel_ingles                               0.792731\n",
      "equipamentos_necessarios                   0.783320\n",
      "nivel_academico                            0.773015\n",
      "data_final                                 0.767067\n",
      "sexo                                       0.766725\n",
      "data_inicial                               0.766628\n",
      "habilidades_comportamentais_necessarias    0.760809\n",
      "comentario                                 0.743108\n",
      "data_nascimento                            0.675119\n",
      "remuneracao                                0.649893\n",
      "sabendo_de_nos_por                         0.641229\n",
      "endereco                                   0.569453\n",
      "local                                      0.566933\n",
      "objetivo_profissional                      0.462275\n",
      "titulo_profissional                        0.462275\n",
      "limite_esperado_para_contratacao           0.377186\n",
      "dtype: float64\n"
     ]
    },
    {
     "name": "stderr",
     "output_type": "stream",
     "text": [
      "/tmp/ipykernel_63959/3810608496.py:38: UserWarning: Parsing dates in %d-%m-%Y format when dayfirst=False (the default) was specified. Pass `dayfirst=True` or specify a format to silence this warning.\n",
      "  df['data_candidatura'] = pd.to_datetime(df['data_candidatura'], errors='coerce')\n"
     ]
    },
    {
     "name": "stdout",
     "output_type": "stream",
     "text": [
      "Dataset consolidado salvo em: ../Datathon Decision/3_silver/dataset_consolidado.parquet\n"
     ]
    }
   ],
   "source": [
    "import pandas as pd\n",
    "\n",
    "PATH_APPLICANTS = \"../Datathon Decision/3_silver/applicants.parquet\"\n",
    "PATH_VAGAS = \"../Datathon Decision/3_silver/vagas.parquet\"\n",
    "PATH_PROSPECTS = \"../Datathon Decision/3_silver/prospects.parquet\"\n",
    "\n",
    "applicants = pd.read_parquet(PATH_APPLICANTS)\n",
    "vagas = pd.read_parquet(PATH_VAGAS)\n",
    "prospects = pd.read_parquet(PATH_PROSPECTS)\n",
    "\n",
    "# prospects contém cod_vaga e nome do candidato (nome)\n",
    "# applicants contém nome e cod_applicant\n",
    "# vagas contém cod_vaga\n",
    "\n",
    "# Merge prospects + applicants (via nome)\n",
    "df = prospects.merge(applicants, on=\"nome\", how=\"left\", suffixes=(\"\", \"_app\"))\n",
    "# Merge com vagas (via cod_vaga)\n",
    "df = df.merge(vagas, on=\"cod_vaga\", how=\"left\", suffixes=(\"\", \"_vaga\"))\n",
    "\n",
    "print(f\"DataFrame consolidado: {df.shape}\")\n",
    "df.head()\n",
    "\n",
    "# 3. Tratamento inicial de valores ausentes\n",
    "missing = df.isnull().mean().sort_values(ascending=False)\n",
    "print(\"Colunas com maior proporção de valores ausentes:\")\n",
    "print(missing[missing > 0.3])"
   ]
  }
 ],
 "metadata": {
  "kernelspec": {
   "display_name": ".venv",
   "language": "python",
   "name": "python3"
  },
  "language_info": {
   "codemirror_mode": {
    "name": "ipython",
    "version": 3
   },
   "file_extension": ".py",
   "mimetype": "text/x-python",
   "name": "python",
   "nbconvert_exporter": "python",
   "pygments_lexer": "ipython3",
   "version": "3.12.7"
  }
 },
 "nbformat": 4,
 "nbformat_minor": 5
}
